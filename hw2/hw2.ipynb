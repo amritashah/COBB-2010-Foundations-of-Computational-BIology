{
 "cells": [
  {
   "cell_type": "code",
   "execution_count": 1,
   "id": "aa25d993-b781-4899-a6bc-923f1e022809",
   "metadata": {},
   "outputs": [],
   "source": [
    "d=2"
   ]
  },
  {
   "cell_type": "code",
   "execution_count": 2,
   "id": "577a4c2e-b2a9-4445-ae87-2f1ff6efb408",
   "metadata": {},
   "outputs": [
    {
     "data": {
      "text/plain": [
       "1.0"
      ]
     },
     "execution_count": 2,
     "metadata": {},
     "output_type": "execute_result"
    }
   ],
   "source": [
    "d/=2\n",
    "d"
   ]
  },
  {
   "cell_type": "code",
   "execution_count": 6,
   "id": "bd979a94-e979-403d-a462-ebeeaa9601ce",
   "metadata": {},
   "outputs": [
    {
     "name": "stdout",
     "output_type": "stream",
     "text": [
      "[1, 2, 3]\n"
     ]
    }
   ],
   "source": [
    "set = list(range(1,3+1))\n",
    "print(set)"
   ]
  },
  {
   "cell_type": "markdown",
   "id": "335ade7f-991a-429a-b59a-d7741d6b1875",
   "metadata": {},
   "source": [
    "# marked down:\n",
    "%%bash\n",
    "echo '1 2 3' > data.tsv\n",
    "echo '4 5 6' >> data.tsv\n",
    "echo '7 8 9' >> data.tsv"
   ]
  },
  {
   "cell_type": "markdown",
   "id": "d1292a08-2750-4b63-8f82-eed2116d8402",
   "metadata": {},
   "source": [
    "#### Testing my files:"
   ]
  },
  {
   "cell_type": "code",
   "execution_count": 103,
   "id": "ca58a486-8d1c-4315-bc59-7a02bcd17bec",
   "metadata": {},
   "outputs": [
    {
     "name": "stdout",
     "output_type": "stream",
     "text": [
      "0 is not a valid integer\n"
     ]
    }
   ],
   "source": [
    "%%bash\n",
    "python wondrous.py 0"
   ]
  },
  {
   "cell_type": "code",
   "execution_count": 105,
   "id": "0f6fd3e5-836d-4a0a-a614-53a8869ecf37",
   "metadata": {},
   "outputs": [
    {
     "name": "stdout",
     "output_type": "stream",
     "text": [
      "4 6 0.666667\n"
     ]
    }
   ],
   "source": [
    "%%bash\n",
    "python zigzag.py 3"
   ]
  },
  {
   "cell_type": "code",
   "execution_count": 59,
   "id": "d1d1de00-5d23-4d1e-a27c-3dad2f5f77e6",
   "metadata": {},
   "outputs": [
    {
     "name": "stdout",
     "output_type": "stream",
     "text": [
      "v1 = [1 2 3 5 6 9] v2 = [1 4 5 7 8 9]\n",
      "v1.v2 = 188\n"
     ]
    }
   ],
   "source": [
    "%%bash\n",
    "python mtxvec.py data.tsv"
   ]
  },
  {
   "cell_type": "code",
   "execution_count": 99,
   "id": "d829b85f-d64c-44a1-b21f-b56304b57d24",
   "metadata": {},
   "outputs": [
    {
     "name": "stdout",
     "output_type": "stream",
     "text": [
      "AAA\n",
      "AAB\n",
      "ABA\n",
      "ABB\n",
      "BAA\n",
      "BAB\n",
      "BBA\n",
      "BBB\n"
     ]
    }
   ],
   "source": [
    "%%bash\n",
    "python nkwords.py 2 3"
   ]
  },
  {
   "cell_type": "code",
   "execution_count": null,
   "id": "8570c0cb-0291-4fbf-be49-428d2f682304",
   "metadata": {},
   "outputs": [],
   "source": []
  }
 ],
 "metadata": {
  "kernelspec": {
   "display_name": "Python 3 (ipykernel)",
   "language": "python",
   "name": "python3"
  },
  "language_info": {
   "codemirror_mode": {
    "name": "ipython",
    "version": 3
   },
   "file_extension": ".py",
   "mimetype": "text/x-python",
   "name": "python",
   "nbconvert_exporter": "python",
   "pygments_lexer": "ipython3",
   "version": "3.12.11"
  }
 },
 "nbformat": 4,
 "nbformat_minor": 5
}
